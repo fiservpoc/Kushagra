{
 "cells": [
  {
   "cell_type": "code",
   "execution_count": 3,
   "metadata": {},
   "outputs": [],
   "source": [
    "import numpy as np\n",
    "import matplotlib as mpl\n",
    "import matplotlib.pyplot as plt\n",
    "import seaborn as sns\n",
    "import math\n",
    "# For the example here, we are assuming space as an unique character, \n",
    "# Also capital letters are different than lower cased letters"
   ]
  },
  {
   "cell_type": "code",
   "execution_count": 4,
   "metadata": {},
   "outputs": [],
   "source": [
    "# Ex. \"I am Sam\" = { ['I '], [' a'], ['am'], ['m '], [' S'], ['Sa'], ['am']}\n",
    "def twoCharGram(dataset):\n",
    "    with open(dataset, 'r') as data:\n",
    "        textFile = data.read().replace('\\n', ' ')\n",
    "        kGrams = set()\n",
    "        # 2-Char gram\n",
    "        for i in range(len(textFile)-1):\n",
    "            if textFile[i] + textFile[i+1] not in kGrams:\n",
    "                kGrams.add(textFile[i] + textFile[i+1])\n",
    "    return kGrams"
   ]
  },
  {
   "cell_type": "code",
   "execution_count": 5,
   "metadata": {},
   "outputs": [],
   "source": [
    "# Ex. \"I am Sam\" = { ['I a'], [' am'], ['am '], ['m S'], [' Sa'], ['Sam']}\n",
    "def threeCharGram(dataset):\n",
    "    with open(dataset, 'r') as data:\n",
    "        textFile = data.read().replace('\\n', ' ')\n",
    "        kGrams = set()\n",
    "        # 3-Char gram\n",
    "        for i in range(len(textFile)-2):\n",
    "            if textFile[i] + textFile[i+1] + textFile[i+2] not in kGrams:\n",
    "                kGrams.add(textFile[i] + textFile[i+1] + textFile[i+2])\n",
    "    return kGrams"
   ]
  },
  {
   "cell_type": "code",
   "execution_count": 6,
   "metadata": {},
   "outputs": [],
   "source": [
    "# Ex. \"I am Sam\" = { ['I am'], ['am Sam']}\n",
    "def twoWordGram(dataset):\n",
    "    with open(dataset, 'r') as data:\n",
    "        tokens = str.split(data.read().replace('\\n', ' '))\n",
    "        kGrams = set()\n",
    "        #2-word gram\n",
    "        for i in range(len(tokens)-1):\n",
    "            if tokens[i] + ' ' + tokens[i+1] not in kGrams:\n",
    "                kGrams.add(tokens[i] + ' ' + tokens[i+1])\n",
    "    return kGrams"
   ]
  },
  {
   "cell_type": "code",
   "execution_count": 9,
   "metadata": {},
   "outputs": [
    {
     "name": "stdout",
     "output_type": "stream",
     "text": [
      "demofile.txt two char gram size: 47\n",
      "demofile2.txt two char gram size: 53\n"
     ]
    }
   ],
   "source": [
    "for dataset in ['demofile.txt','demofile2.txt']:\n",
    "    print(dataset + ' two char gram size: %d' % len(twoCharGram(''+dataset)))"
   ]
  },
  {
   "cell_type": "code",
   "execution_count": 11,
   "metadata": {},
   "outputs": [
    {
     "name": "stdout",
     "output_type": "stream",
     "text": [
      "demofile.txt three char gram size: 53\n",
      "demofile2.txt three char gram size: 60\n"
     ]
    }
   ],
   "source": [
    "for dataset in ['demofile.txt','demofile2.txt']:\n",
    "    print(dataset + ' three char gram size: %d' % len(threeCharGram(''+dataset)))"
   ]
  },
  {
   "cell_type": "code",
   "execution_count": 12,
   "metadata": {},
   "outputs": [
    {
     "name": "stdout",
     "output_type": "stream",
     "text": [
      "demofile.txt two word gram size: 8\n",
      "demofile2.txt two word gram size: 9\n"
     ]
    }
   ],
   "source": [
    "for dataset in ['demofile.txt','demofile2.txt']:\n",
    "    print(dataset + ' two word gram size: %d' % len(twoWordGram(''+dataset)))"
   ]
  },
  {
   "cell_type": "code",
   "execution_count": 17,
   "metadata": {},
   "outputs": [],
   "source": [
    "def jaccard(d1,d2, message):\n",
    "    print('demofile.txt\\'s '+ message +' similarity with demofile2.txt is: %.6f percent' % (100.* len(D1set.intersection(D2set))/ len(D1set.union(D2set))))"
   ]
  },
  {
   "cell_type": "code",
   "execution_count": 19,
   "metadata": {},
   "outputs": [
    {
     "name": "stdout",
     "output_type": "stream",
     "text": [
      "demofile.txt's two char gram similarity with demofile2.txt is: 66.666667 percent\n"
     ]
    }
   ],
   "source": [
    "D1set = twoCharGram('demofile.txt')\n",
    "D2set = twoCharGram('demofile2.txt')\n",
    "\n",
    "jaccard(D1set,D2set, 'two char gram')"
   ]
  },
  {
   "cell_type": "code",
   "execution_count": 21,
   "metadata": {},
   "outputs": [
    {
     "name": "stdout",
     "output_type": "stream",
     "text": [
      "demofile.txt's three char gram similarity with demofile2.txt is: 54.794521 percent\n"
     ]
    }
   ],
   "source": [
    "D1set = threeCharGram('demofile.txt')\n",
    "D2set = threeCharGram('demofile2.txt')\n",
    "\n",
    "jaccard(D1set,D2set, 'three char gram')"
   ]
  },
  {
   "cell_type": "code",
   "execution_count": 22,
   "metadata": {},
   "outputs": [
    {
     "name": "stdout",
     "output_type": "stream",
     "text": [
      "demofile.txt's two Word gram similarity with demofile2.txt is: 30.769231 percent\n"
     ]
    }
   ],
   "source": [
    "\n",
    "D1set = twoWordGram('demofile.txt')\n",
    "D2set = twoWordGram('demofile2.txt')\n",
    "\n",
    "jaccard(D1set,D2set, 'two Word gram')"
   ]
  },
  {
   "cell_type": "code",
   "execution_count": null,
   "metadata": {},
   "outputs": [],
   "source": []
  }
 ],
 "metadata": {
  "kernelspec": {
   "display_name": "Python 3",
   "language": "python",
   "name": "python3"
  },
  "language_info": {
   "codemirror_mode": {
    "name": "ipython",
    "version": 3
   },
   "file_extension": ".py",
   "mimetype": "text/x-python",
   "name": "python",
   "nbconvert_exporter": "python",
   "pygments_lexer": "ipython3",
   "version": "3.7.3"
  }
 },
 "nbformat": 4,
 "nbformat_minor": 2
}
